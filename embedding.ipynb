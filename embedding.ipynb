{
 "cells": [
  {
   "cell_type": "code",
   "execution_count": 2,
   "metadata": {},
   "outputs": [
    {
     "name": "stderr",
     "output_type": "stream",
     "text": [
      "c:\\Users\\Mr. COMPUTER\\Desktop\\DEEP LEARNING NLP\\myenv\\Lib\\site-packages\\google\\protobuf\\runtime_version.py:98: UserWarning: Protobuf gencode version 5.28.3 is exactly one major version older than the runtime version 6.31.1 at tensorflow/core/framework/attr_value.proto. Please update the gencode to avoid compatibility violations in the next runtime release.\n",
      "  warnings.warn(\n",
      "c:\\Users\\Mr. COMPUTER\\Desktop\\DEEP LEARNING NLP\\myenv\\Lib\\site-packages\\google\\protobuf\\runtime_version.py:98: UserWarning: Protobuf gencode version 5.28.3 is exactly one major version older than the runtime version 6.31.1 at tensorflow/core/framework/tensor.proto. Please update the gencode to avoid compatibility violations in the next runtime release.\n",
      "  warnings.warn(\n",
      "c:\\Users\\Mr. COMPUTER\\Desktop\\DEEP LEARNING NLP\\myenv\\Lib\\site-packages\\google\\protobuf\\runtime_version.py:98: UserWarning: Protobuf gencode version 5.28.3 is exactly one major version older than the runtime version 6.31.1 at tensorflow/core/framework/resource_handle.proto. Please update the gencode to avoid compatibility violations in the next runtime release.\n",
      "  warnings.warn(\n",
      "c:\\Users\\Mr. COMPUTER\\Desktop\\DEEP LEARNING NLP\\myenv\\Lib\\site-packages\\google\\protobuf\\runtime_version.py:98: UserWarning: Protobuf gencode version 5.28.3 is exactly one major version older than the runtime version 6.31.1 at tensorflow/core/framework/tensor_shape.proto. Please update the gencode to avoid compatibility violations in the next runtime release.\n",
      "  warnings.warn(\n",
      "c:\\Users\\Mr. COMPUTER\\Desktop\\DEEP LEARNING NLP\\myenv\\Lib\\site-packages\\google\\protobuf\\runtime_version.py:98: UserWarning: Protobuf gencode version 5.28.3 is exactly one major version older than the runtime version 6.31.1 at tensorflow/core/framework/types.proto. Please update the gencode to avoid compatibility violations in the next runtime release.\n",
      "  warnings.warn(\n",
      "c:\\Users\\Mr. COMPUTER\\Desktop\\DEEP LEARNING NLP\\myenv\\Lib\\site-packages\\google\\protobuf\\runtime_version.py:98: UserWarning: Protobuf gencode version 5.28.3 is exactly one major version older than the runtime version 6.31.1 at tensorflow/core/framework/full_type.proto. Please update the gencode to avoid compatibility violations in the next runtime release.\n",
      "  warnings.warn(\n",
      "c:\\Users\\Mr. COMPUTER\\Desktop\\DEEP LEARNING NLP\\myenv\\Lib\\site-packages\\google\\protobuf\\runtime_version.py:98: UserWarning: Protobuf gencode version 5.28.3 is exactly one major version older than the runtime version 6.31.1 at tensorflow/core/framework/function.proto. Please update the gencode to avoid compatibility violations in the next runtime release.\n",
      "  warnings.warn(\n",
      "c:\\Users\\Mr. COMPUTER\\Desktop\\DEEP LEARNING NLP\\myenv\\Lib\\site-packages\\google\\protobuf\\runtime_version.py:98: UserWarning: Protobuf gencode version 5.28.3 is exactly one major version older than the runtime version 6.31.1 at tensorflow/core/framework/node_def.proto. Please update the gencode to avoid compatibility violations in the next runtime release.\n",
      "  warnings.warn(\n",
      "c:\\Users\\Mr. COMPUTER\\Desktop\\DEEP LEARNING NLP\\myenv\\Lib\\site-packages\\google\\protobuf\\runtime_version.py:98: UserWarning: Protobuf gencode version 5.28.3 is exactly one major version older than the runtime version 6.31.1 at tensorflow/core/framework/op_def.proto. Please update the gencode to avoid compatibility violations in the next runtime release.\n",
      "  warnings.warn(\n",
      "c:\\Users\\Mr. COMPUTER\\Desktop\\DEEP LEARNING NLP\\myenv\\Lib\\site-packages\\google\\protobuf\\runtime_version.py:98: UserWarning: Protobuf gencode version 5.28.3 is exactly one major version older than the runtime version 6.31.1 at tensorflow/core/framework/graph.proto. Please update the gencode to avoid compatibility violations in the next runtime release.\n",
      "  warnings.warn(\n",
      "c:\\Users\\Mr. COMPUTER\\Desktop\\DEEP LEARNING NLP\\myenv\\Lib\\site-packages\\google\\protobuf\\runtime_version.py:98: UserWarning: Protobuf gencode version 5.28.3 is exactly one major version older than the runtime version 6.31.1 at tensorflow/core/framework/graph_debug_info.proto. Please update the gencode to avoid compatibility violations in the next runtime release.\n",
      "  warnings.warn(\n",
      "c:\\Users\\Mr. COMPUTER\\Desktop\\DEEP LEARNING NLP\\myenv\\Lib\\site-packages\\google\\protobuf\\runtime_version.py:98: UserWarning: Protobuf gencode version 5.28.3 is exactly one major version older than the runtime version 6.31.1 at tensorflow/core/framework/versions.proto. Please update the gencode to avoid compatibility violations in the next runtime release.\n",
      "  warnings.warn(\n",
      "c:\\Users\\Mr. COMPUTER\\Desktop\\DEEP LEARNING NLP\\myenv\\Lib\\site-packages\\google\\protobuf\\runtime_version.py:98: UserWarning: Protobuf gencode version 5.28.3 is exactly one major version older than the runtime version 6.31.1 at tensorflow/core/protobuf/config.proto. Please update the gencode to avoid compatibility violations in the next runtime release.\n",
      "  warnings.warn(\n",
      "c:\\Users\\Mr. COMPUTER\\Desktop\\DEEP LEARNING NLP\\myenv\\Lib\\site-packages\\google\\protobuf\\runtime_version.py:98: UserWarning: Protobuf gencode version 5.28.3 is exactly one major version older than the runtime version 6.31.1 at xla/tsl/protobuf/coordination_config.proto. Please update the gencode to avoid compatibility violations in the next runtime release.\n",
      "  warnings.warn(\n",
      "c:\\Users\\Mr. COMPUTER\\Desktop\\DEEP LEARNING NLP\\myenv\\Lib\\site-packages\\google\\protobuf\\runtime_version.py:98: UserWarning: Protobuf gencode version 5.28.3 is exactly one major version older than the runtime version 6.31.1 at tensorflow/core/framework/cost_graph.proto. Please update the gencode to avoid compatibility violations in the next runtime release.\n",
      "  warnings.warn(\n",
      "c:\\Users\\Mr. COMPUTER\\Desktop\\DEEP LEARNING NLP\\myenv\\Lib\\site-packages\\google\\protobuf\\runtime_version.py:98: UserWarning: Protobuf gencode version 5.28.3 is exactly one major version older than the runtime version 6.31.1 at tensorflow/core/framework/step_stats.proto. Please update the gencode to avoid compatibility violations in the next runtime release.\n",
      "  warnings.warn(\n",
      "c:\\Users\\Mr. COMPUTER\\Desktop\\DEEP LEARNING NLP\\myenv\\Lib\\site-packages\\google\\protobuf\\runtime_version.py:98: UserWarning: Protobuf gencode version 5.28.3 is exactly one major version older than the runtime version 6.31.1 at tensorflow/core/framework/allocation_description.proto. Please update the gencode to avoid compatibility violations in the next runtime release.\n",
      "  warnings.warn(\n",
      "c:\\Users\\Mr. COMPUTER\\Desktop\\DEEP LEARNING NLP\\myenv\\Lib\\site-packages\\google\\protobuf\\runtime_version.py:98: UserWarning: Protobuf gencode version 5.28.3 is exactly one major version older than the runtime version 6.31.1 at tensorflow/core/framework/tensor_description.proto. Please update the gencode to avoid compatibility violations in the next runtime release.\n",
      "  warnings.warn(\n",
      "c:\\Users\\Mr. COMPUTER\\Desktop\\DEEP LEARNING NLP\\myenv\\Lib\\site-packages\\google\\protobuf\\runtime_version.py:98: UserWarning: Protobuf gencode version 5.28.3 is exactly one major version older than the runtime version 6.31.1 at tensorflow/core/protobuf/cluster.proto. Please update the gencode to avoid compatibility violations in the next runtime release.\n",
      "  warnings.warn(\n",
      "c:\\Users\\Mr. COMPUTER\\Desktop\\DEEP LEARNING NLP\\myenv\\Lib\\site-packages\\google\\protobuf\\runtime_version.py:98: UserWarning: Protobuf gencode version 5.28.3 is exactly one major version older than the runtime version 6.31.1 at tensorflow/core/protobuf/debug.proto. Please update the gencode to avoid compatibility violations in the next runtime release.\n",
      "  warnings.warn(\n"
     ]
    }
   ],
   "source": [
    "from tensorflow.keras.preprocessing.text import one_hot"
   ]
  },
  {
   "cell_type": "code",
   "execution_count": 3,
   "metadata": {},
   "outputs": [],
   "source": [
    "# sentences\n",
    "sent=[  'the glass of milk',\n",
    "     'the glass of juice',\n",
    "     'the cup of tea',\n",
    "    'I am a good boy',\n",
    "     'I am a good developer',\n",
    "     'understand the meaning of words',\n",
    "     'your videos are good',]"
   ]
  },
  {
   "cell_type": "code",
   "execution_count": 4,
   "metadata": {},
   "outputs": [
    {
     "data": {
      "text/plain": [
       "['the glass of milk',\n",
       " 'the glass of juice',\n",
       " 'the cup of tea',\n",
       " 'I am a good boy',\n",
       " 'I am a good developer',\n",
       " 'understand the meaning of words',\n",
       " 'your videos are good']"
      ]
     },
     "execution_count": 4,
     "metadata": {},
     "output_type": "execute_result"
    }
   ],
   "source": [
    "sent"
   ]
  },
  {
   "cell_type": "code",
   "execution_count": 5,
   "metadata": {},
   "outputs": [],
   "source": [
    "# Define the vocabulary size\n",
    "voc_size=10000"
   ]
  },
  {
   "cell_type": "code",
   "execution_count": 6,
   "metadata": {},
   "outputs": [
    {
     "data": {
      "text/plain": [
       "['the glass of milk',\n",
       " 'the glass of juice',\n",
       " 'the cup of tea',\n",
       " 'I am a good boy',\n",
       " 'I am a good developer',\n",
       " 'understand the meaning of words',\n",
       " 'your videos are good']"
      ]
     },
     "execution_count": 6,
     "metadata": {},
     "output_type": "execute_result"
    }
   ],
   "source": [
    "sent"
   ]
  },
  {
   "cell_type": "code",
   "execution_count": 7,
   "metadata": {},
   "outputs": [
    {
     "data": {
      "text/plain": [
       "[[8453, 2721, 2202, 8072],\n",
       " [8453, 2721, 2202, 2652],\n",
       " [8453, 5756, 2202, 4915],\n",
       " [2366, 9831, 9539, 8091, 7243],\n",
       " [2366, 9831, 9539, 8091, 6383],\n",
       " [4124, 8453, 6545, 2202, 177],\n",
       " [2590, 57, 476, 8091]]"
      ]
     },
     "execution_count": 7,
     "metadata": {},
     "output_type": "execute_result"
    }
   ],
   "source": [
    "# One Hot Representation\n",
    " \n",
    "#one_hot(words,voc_size)for words in sent \n",
    "one_hot_repr=[one_hot(words,voc_size)for words in sent]\n",
    "one_hot_repr"
   ]
  },
  {
   "cell_type": "code",
   "execution_count": 8,
   "metadata": {},
   "outputs": [],
   "source": [
    "## word Embedding Representation\n",
    "\n",
    "from tensorflow.keras.layers import Embedding\n",
    "#from tensorflow.keras.processing.sequence import pad_sequences\n",
    "from tensorflow.keras.utils import pad_sequences\n",
    "from tensorflow.keras.models import Sequential"
   ]
  },
  {
   "cell_type": "code",
   "execution_count": 9,
   "metadata": {},
   "outputs": [],
   "source": [
    "import numpy as np"
   ]
  },
  {
   "cell_type": "code",
   "execution_count": 10,
   "metadata": {},
   "outputs": [
    {
     "name": "stdout",
     "output_type": "stream",
     "text": [
      "[[   0    0    0    0 8453 2721 2202 8072]\n",
      " [   0    0    0    0 8453 2721 2202 2652]\n",
      " [   0    0    0    0 8453 5756 2202 4915]\n",
      " [   0    0    0 2366 9831 9539 8091 7243]\n",
      " [   0    0    0 2366 9831 9539 8091 6383]\n",
      " [   0    0    0 4124 8453 6545 2202  177]\n",
      " [   0    0    0    0 2590   57  476 8091]]\n"
     ]
    }
   ],
   "source": [
    "sent_length=8\n",
    "embedded_docs=pad_sequences(one_hot_repr,padding='pre',maxlen=sent_length)\n",
    "print(embedded_docs)"
   ]
  },
  {
   "cell_type": "code",
   "execution_count": null,
   "metadata": {},
   "outputs": [],
   "source": [
    "## feature representation\n",
    "dim=10 #dimensions"
   ]
  },
  {
   "cell_type": "code",
   "execution_count": 19,
   "metadata": {},
   "outputs": [],
   "source": [
    "model=Sequential()\n",
    "model.add(Embedding(voc_size,dim,input_length=sent_length))\n",
    "model.compile('adam','mse')"
   ]
  },
  {
   "cell_type": "code",
   "execution_count": 20,
   "metadata": {},
   "outputs": [
    {
     "data": {
      "text/html": [
       "<pre style=\"white-space:pre;overflow-x:auto;line-height:normal;font-family:Menlo,'DejaVu Sans Mono',consolas,'Courier New',monospace\"><span style=\"font-weight: bold\">Model: \"sequential_1\"</span>\n",
       "</pre>\n"
      ],
      "text/plain": [
       "\u001b[1mModel: \"sequential_1\"\u001b[0m\n"
      ]
     },
     "metadata": {},
     "output_type": "display_data"
    },
    {
     "data": {
      "text/html": [
       "<pre style=\"white-space:pre;overflow-x:auto;line-height:normal;font-family:Menlo,'DejaVu Sans Mono',consolas,'Courier New',monospace\">┏━━━━━━━━━━━━━━━━━━━━━━━━━━━━━━━━━┳━━━━━━━━━━━━━━━━━━━━━━━━┳━━━━━━━━━━━━━━━┓\n",
       "┃<span style=\"font-weight: bold\"> Layer (type)                    </span>┃<span style=\"font-weight: bold\"> Output Shape           </span>┃<span style=\"font-weight: bold\">       Param # </span>┃\n",
       "┡━━━━━━━━━━━━━━━━━━━━━━━━━━━━━━━━━╇━━━━━━━━━━━━━━━━━━━━━━━━╇━━━━━━━━━━━━━━━┩\n",
       "│ embedding_1 (<span style=\"color: #0087ff; text-decoration-color: #0087ff\">Embedding</span>)         │ ?                      │   <span style=\"color: #00af00; text-decoration-color: #00af00\">0</span> (unbuilt) │\n",
       "└─────────────────────────────────┴────────────────────────┴───────────────┘\n",
       "</pre>\n"
      ],
      "text/plain": [
       "┏━━━━━━━━━━━━━━━━━━━━━━━━━━━━━━━━━┳━━━━━━━━━━━━━━━━━━━━━━━━┳━━━━━━━━━━━━━━━┓\n",
       "┃\u001b[1m \u001b[0m\u001b[1mLayer (type)                   \u001b[0m\u001b[1m \u001b[0m┃\u001b[1m \u001b[0m\u001b[1mOutput Shape          \u001b[0m\u001b[1m \u001b[0m┃\u001b[1m \u001b[0m\u001b[1m      Param #\u001b[0m\u001b[1m \u001b[0m┃\n",
       "┡━━━━━━━━━━━━━━━━━━━━━━━━━━━━━━━━━╇━━━━━━━━━━━━━━━━━━━━━━━━╇━━━━━━━━━━━━━━━┩\n",
       "│ embedding_1 (\u001b[38;5;33mEmbedding\u001b[0m)         │ ?                      │   \u001b[38;5;34m0\u001b[0m (unbuilt) │\n",
       "└─────────────────────────────────┴────────────────────────┴───────────────┘\n"
      ]
     },
     "metadata": {},
     "output_type": "display_data"
    },
    {
     "data": {
      "text/html": [
       "<pre style=\"white-space:pre;overflow-x:auto;line-height:normal;font-family:Menlo,'DejaVu Sans Mono',consolas,'Courier New',monospace\"><span style=\"font-weight: bold\"> Total params: </span><span style=\"color: #00af00; text-decoration-color: #00af00\">0</span> (0.00 B)\n",
       "</pre>\n"
      ],
      "text/plain": [
       "\u001b[1m Total params: \u001b[0m\u001b[38;5;34m0\u001b[0m (0.00 B)\n"
      ]
     },
     "metadata": {},
     "output_type": "display_data"
    },
    {
     "data": {
      "text/html": [
       "<pre style=\"white-space:pre;overflow-x:auto;line-height:normal;font-family:Menlo,'DejaVu Sans Mono',consolas,'Courier New',monospace\"><span style=\"font-weight: bold\"> Trainable params: </span><span style=\"color: #00af00; text-decoration-color: #00af00\">0</span> (0.00 B)\n",
       "</pre>\n"
      ],
      "text/plain": [
       "\u001b[1m Trainable params: \u001b[0m\u001b[38;5;34m0\u001b[0m (0.00 B)\n"
      ]
     },
     "metadata": {},
     "output_type": "display_data"
    },
    {
     "data": {
      "text/html": [
       "<pre style=\"white-space:pre;overflow-x:auto;line-height:normal;font-family:Menlo,'DejaVu Sans Mono',consolas,'Courier New',monospace\"><span style=\"font-weight: bold\"> Non-trainable params: </span><span style=\"color: #00af00; text-decoration-color: #00af00\">0</span> (0.00 B)\n",
       "</pre>\n"
      ],
      "text/plain": [
       "\u001b[1m Non-trainable params: \u001b[0m\u001b[38;5;34m0\u001b[0m (0.00 B)\n"
      ]
     },
     "metadata": {},
     "output_type": "display_data"
    }
   ],
   "source": [
    "model.summary()"
   ]
  },
  {
   "cell_type": "code",
   "execution_count": 14,
   "metadata": {},
   "outputs": [
    {
     "name": "stdout",
     "output_type": "stream",
     "text": [
      "\u001b[1m1/1\u001b[0m \u001b[32m━━━━━━━━━━━━━━━━━━━━\u001b[0m\u001b[37m\u001b[0m \u001b[1m0s\u001b[0m 162ms/step\n"
     ]
    },
    {
     "data": {
      "text/plain": [
       "array([[[ 0.0382571 ,  0.03033156,  0.0398804 ,  0.0486894 ,\n",
       "          0.02701967, -0.02875528, -0.00608286,  0.02633617,\n",
       "          0.02489612,  0.00480761],\n",
       "        [ 0.0382571 ,  0.03033156,  0.0398804 ,  0.0486894 ,\n",
       "          0.02701967, -0.02875528, -0.00608286,  0.02633617,\n",
       "          0.02489612,  0.00480761],\n",
       "        [ 0.0382571 ,  0.03033156,  0.0398804 ,  0.0486894 ,\n",
       "          0.02701967, -0.02875528, -0.00608286,  0.02633617,\n",
       "          0.02489612,  0.00480761],\n",
       "        [ 0.0382571 ,  0.03033156,  0.0398804 ,  0.0486894 ,\n",
       "          0.02701967, -0.02875528, -0.00608286,  0.02633617,\n",
       "          0.02489612,  0.00480761],\n",
       "        [ 0.03394606,  0.00420564,  0.00755916,  0.04898865,\n",
       "         -0.02722701,  0.03248299, -0.02602658, -0.04885805,\n",
       "          0.04144073,  0.02489752],\n",
       "        [-0.01565169,  0.04301392,  0.00309689, -0.00670338,\n",
       "          0.02544909,  0.046467  , -0.0176456 , -0.03729975,\n",
       "         -0.01159537,  0.00287837],\n",
       "        [-0.01550878, -0.01588885, -0.00611664, -0.04412528,\n",
       "          0.04247408, -0.01915847,  0.03303591,  0.03035006,\n",
       "         -0.00085614,  0.01092523],\n",
       "        [-0.00327746, -0.0278046 , -0.04443231, -0.01766492,\n",
       "          0.01965915, -0.01067539,  0.03467008,  0.04382253,\n",
       "         -0.02128234, -0.01723802]],\n",
       "\n",
       "       [[ 0.0382571 ,  0.03033156,  0.0398804 ,  0.0486894 ,\n",
       "          0.02701967, -0.02875528, -0.00608286,  0.02633617,\n",
       "          0.02489612,  0.00480761],\n",
       "        [ 0.0382571 ,  0.03033156,  0.0398804 ,  0.0486894 ,\n",
       "          0.02701967, -0.02875528, -0.00608286,  0.02633617,\n",
       "          0.02489612,  0.00480761],\n",
       "        [ 0.0382571 ,  0.03033156,  0.0398804 ,  0.0486894 ,\n",
       "          0.02701967, -0.02875528, -0.00608286,  0.02633617,\n",
       "          0.02489612,  0.00480761],\n",
       "        [ 0.0382571 ,  0.03033156,  0.0398804 ,  0.0486894 ,\n",
       "          0.02701967, -0.02875528, -0.00608286,  0.02633617,\n",
       "          0.02489612,  0.00480761],\n",
       "        [ 0.03394606,  0.00420564,  0.00755916,  0.04898865,\n",
       "         -0.02722701,  0.03248299, -0.02602658, -0.04885805,\n",
       "          0.04144073,  0.02489752],\n",
       "        [-0.01565169,  0.04301392,  0.00309689, -0.00670338,\n",
       "          0.02544909,  0.046467  , -0.0176456 , -0.03729975,\n",
       "         -0.01159537,  0.00287837],\n",
       "        [-0.01550878, -0.01588885, -0.00611664, -0.04412528,\n",
       "          0.04247408, -0.01915847,  0.03303591,  0.03035006,\n",
       "         -0.00085614,  0.01092523],\n",
       "        [-0.01844481,  0.02127662,  0.04443179, -0.02949517,\n",
       "         -0.03615751, -0.00346079, -0.03230603,  0.02880278,\n",
       "         -0.02400894,  0.04210475]],\n",
       "\n",
       "       [[ 0.0382571 ,  0.03033156,  0.0398804 ,  0.0486894 ,\n",
       "          0.02701967, -0.02875528, -0.00608286,  0.02633617,\n",
       "          0.02489612,  0.00480761],\n",
       "        [ 0.0382571 ,  0.03033156,  0.0398804 ,  0.0486894 ,\n",
       "          0.02701967, -0.02875528, -0.00608286,  0.02633617,\n",
       "          0.02489612,  0.00480761],\n",
       "        [ 0.0382571 ,  0.03033156,  0.0398804 ,  0.0486894 ,\n",
       "          0.02701967, -0.02875528, -0.00608286,  0.02633617,\n",
       "          0.02489612,  0.00480761],\n",
       "        [ 0.0382571 ,  0.03033156,  0.0398804 ,  0.0486894 ,\n",
       "          0.02701967, -0.02875528, -0.00608286,  0.02633617,\n",
       "          0.02489612,  0.00480761],\n",
       "        [ 0.03394606,  0.00420564,  0.00755916,  0.04898865,\n",
       "         -0.02722701,  0.03248299, -0.02602658, -0.04885805,\n",
       "          0.04144073,  0.02489752],\n",
       "        [-0.00248514, -0.02919167, -0.03374821, -0.04484047,\n",
       "          0.03889288,  0.01783714,  0.03942052,  0.03047303,\n",
       "         -0.00936889,  0.01445604],\n",
       "        [-0.01550878, -0.01588885, -0.00611664, -0.04412528,\n",
       "          0.04247408, -0.01915847,  0.03303591,  0.03035006,\n",
       "         -0.00085614,  0.01092523],\n",
       "        [ 0.02666766,  0.0480184 , -0.01476842, -0.03000802,\n",
       "         -0.01909214, -0.01637258, -0.04146665, -0.02312036,\n",
       "          0.02698782, -0.00889836]],\n",
       "\n",
       "       [[ 0.0382571 ,  0.03033156,  0.0398804 ,  0.0486894 ,\n",
       "          0.02701967, -0.02875528, -0.00608286,  0.02633617,\n",
       "          0.02489612,  0.00480761],\n",
       "        [ 0.0382571 ,  0.03033156,  0.0398804 ,  0.0486894 ,\n",
       "          0.02701967, -0.02875528, -0.00608286,  0.02633617,\n",
       "          0.02489612,  0.00480761],\n",
       "        [ 0.0382571 ,  0.03033156,  0.0398804 ,  0.0486894 ,\n",
       "          0.02701967, -0.02875528, -0.00608286,  0.02633617,\n",
       "          0.02489612,  0.00480761],\n",
       "        [ 0.0156019 , -0.02979947,  0.035264  , -0.01303704,\n",
       "          0.01067047, -0.047121  , -0.00218296, -0.00580562,\n",
       "         -0.00663178,  0.0305334 ],\n",
       "        [ 0.02430273, -0.00559985,  0.04964825, -0.01681482,\n",
       "         -0.02481101,  0.01713926, -0.00709026, -0.00356472,\n",
       "         -0.02698374,  0.01771051],\n",
       "        [-0.00922213, -0.03488921, -0.02985109,  0.01826886,\n",
       "         -0.04542968, -0.0057882 ,  0.01929897, -0.01224133,\n",
       "          0.01607164,  0.02073577],\n",
       "        [-0.03941991, -0.02118074,  0.04582078,  0.0179881 ,\n",
       "          0.02140092, -0.02041836,  0.0182675 ,  0.00579201,\n",
       "          0.03563548,  0.04681096],\n",
       "        [ 0.00203731, -0.00769801, -0.02934781,  0.0304294 ,\n",
       "         -0.02279991,  0.01296988, -0.02524035, -0.02740451,\n",
       "         -0.01542561,  0.00926498]],\n",
       "\n",
       "       [[ 0.0382571 ,  0.03033156,  0.0398804 ,  0.0486894 ,\n",
       "          0.02701967, -0.02875528, -0.00608286,  0.02633617,\n",
       "          0.02489612,  0.00480761],\n",
       "        [ 0.0382571 ,  0.03033156,  0.0398804 ,  0.0486894 ,\n",
       "          0.02701967, -0.02875528, -0.00608286,  0.02633617,\n",
       "          0.02489612,  0.00480761],\n",
       "        [ 0.0382571 ,  0.03033156,  0.0398804 ,  0.0486894 ,\n",
       "          0.02701967, -0.02875528, -0.00608286,  0.02633617,\n",
       "          0.02489612,  0.00480761],\n",
       "        [ 0.0156019 , -0.02979947,  0.035264  , -0.01303704,\n",
       "          0.01067047, -0.047121  , -0.00218296, -0.00580562,\n",
       "         -0.00663178,  0.0305334 ],\n",
       "        [ 0.02430273, -0.00559985,  0.04964825, -0.01681482,\n",
       "         -0.02481101,  0.01713926, -0.00709026, -0.00356472,\n",
       "         -0.02698374,  0.01771051],\n",
       "        [-0.00922213, -0.03488921, -0.02985109,  0.01826886,\n",
       "         -0.04542968, -0.0057882 ,  0.01929897, -0.01224133,\n",
       "          0.01607164,  0.02073577],\n",
       "        [-0.03941991, -0.02118074,  0.04582078,  0.0179881 ,\n",
       "          0.02140092, -0.02041836,  0.0182675 ,  0.00579201,\n",
       "          0.03563548,  0.04681096],\n",
       "        [ 0.04226955, -0.04203272, -0.0455148 ,  0.02731303,\n",
       "         -0.01426957, -0.02736191,  0.0309431 , -0.00321956,\n",
       "         -0.01082437, -0.01301557]],\n",
       "\n",
       "       [[ 0.0382571 ,  0.03033156,  0.0398804 ,  0.0486894 ,\n",
       "          0.02701967, -0.02875528, -0.00608286,  0.02633617,\n",
       "          0.02489612,  0.00480761],\n",
       "        [ 0.0382571 ,  0.03033156,  0.0398804 ,  0.0486894 ,\n",
       "          0.02701967, -0.02875528, -0.00608286,  0.02633617,\n",
       "          0.02489612,  0.00480761],\n",
       "        [ 0.0382571 ,  0.03033156,  0.0398804 ,  0.0486894 ,\n",
       "          0.02701967, -0.02875528, -0.00608286,  0.02633617,\n",
       "          0.02489612,  0.00480761],\n",
       "        [-0.04844461, -0.04248023, -0.00664922, -0.04478705,\n",
       "          0.00829263, -0.02195466,  0.01498232,  0.04194112,\n",
       "          0.01121612, -0.01325691],\n",
       "        [ 0.03394606,  0.00420564,  0.00755916,  0.04898865,\n",
       "         -0.02722701,  0.03248299, -0.02602658, -0.04885805,\n",
       "          0.04144073,  0.02489752],\n",
       "        [ 0.04684177,  0.03126008, -0.02423328,  0.02126653,\n",
       "          0.00960101,  0.04940495, -0.00330313,  0.02092341,\n",
       "         -0.00729024,  0.0496613 ],\n",
       "        [-0.01550878, -0.01588885, -0.00611664, -0.04412528,\n",
       "          0.04247408, -0.01915847,  0.03303591,  0.03035006,\n",
       "         -0.00085614,  0.01092523],\n",
       "        [-0.04693518, -0.01444706, -0.02008773,  0.01810756,\n",
       "         -0.03966627,  0.02054003, -0.00902176,  0.0318928 ,\n",
       "          0.01922835, -0.02322092]],\n",
       "\n",
       "       [[ 0.0382571 ,  0.03033156,  0.0398804 ,  0.0486894 ,\n",
       "          0.02701967, -0.02875528, -0.00608286,  0.02633617,\n",
       "          0.02489612,  0.00480761],\n",
       "        [ 0.0382571 ,  0.03033156,  0.0398804 ,  0.0486894 ,\n",
       "          0.02701967, -0.02875528, -0.00608286,  0.02633617,\n",
       "          0.02489612,  0.00480761],\n",
       "        [ 0.0382571 ,  0.03033156,  0.0398804 ,  0.0486894 ,\n",
       "          0.02701967, -0.02875528, -0.00608286,  0.02633617,\n",
       "          0.02489612,  0.00480761],\n",
       "        [ 0.0382571 ,  0.03033156,  0.0398804 ,  0.0486894 ,\n",
       "          0.02701967, -0.02875528, -0.00608286,  0.02633617,\n",
       "          0.02489612,  0.00480761],\n",
       "        [ 0.03623642, -0.01894999,  0.00360572, -0.01588547,\n",
       "          0.01346051, -0.02787508, -0.016201  ,  0.03873185,\n",
       "          0.00371518,  0.0118143 ],\n",
       "        [ 0.00943687, -0.00041916, -0.00571577,  0.04382667,\n",
       "          0.00376827, -0.00343181, -0.04737147, -0.03882985,\n",
       "          0.01869943,  0.02890996],\n",
       "        [ 0.04912109, -0.01512405, -0.04349771, -0.02706879,\n",
       "         -0.02884644,  0.01489884, -0.00079039,  0.03590021,\n",
       "         -0.00726446, -0.00062317],\n",
       "        [-0.03941991, -0.02118074,  0.04582078,  0.0179881 ,\n",
       "          0.02140092, -0.02041836,  0.0182675 ,  0.00579201,\n",
       "          0.03563548,  0.04681096]]], dtype=float32)"
      ]
     },
     "execution_count": 14,
     "metadata": {},
     "output_type": "execute_result"
    }
   ],
   "source": [
    "model.predict(embedded_docs)"
   ]
  },
  {
   "cell_type": "code",
   "execution_count": 15,
   "metadata": {},
   "outputs": [
    {
     "data": {
      "text/plain": [
       "array([   0,    0,    0,    0, 8453, 2721, 2202, 8072], dtype=int32)"
      ]
     },
     "execution_count": 15,
     "metadata": {},
     "output_type": "execute_result"
    }
   ],
   "source": [
    "embedded_docs[0]"
   ]
  },
  {
   "cell_type": "code",
   "execution_count": 18,
   "metadata": {},
   "outputs": [
    {
     "name": "stdout",
     "output_type": "stream",
     "text": [
      "\u001b[1m1/1\u001b[0m \u001b[32m━━━━━━━━━━━━━━━━━━━━\u001b[0m\u001b[37m\u001b[0m \u001b[1m0s\u001b[0m 48ms/step\n"
     ]
    },
    {
     "data": {
      "text/plain": [
       "array([[[ 0.0382571 ,  0.03033156,  0.0398804 ,  0.0486894 ,\n",
       "          0.02701967, -0.02875528, -0.00608286,  0.02633617,\n",
       "          0.02489612,  0.00480761],\n",
       "        [ 0.0382571 ,  0.03033156,  0.0398804 ,  0.0486894 ,\n",
       "          0.02701967, -0.02875528, -0.00608286,  0.02633617,\n",
       "          0.02489612,  0.00480761],\n",
       "        [ 0.0382571 ,  0.03033156,  0.0398804 ,  0.0486894 ,\n",
       "          0.02701967, -0.02875528, -0.00608286,  0.02633617,\n",
       "          0.02489612,  0.00480761],\n",
       "        [ 0.0382571 ,  0.03033156,  0.0398804 ,  0.0486894 ,\n",
       "          0.02701967, -0.02875528, -0.00608286,  0.02633617,\n",
       "          0.02489612,  0.00480761],\n",
       "        [ 0.03394606,  0.00420564,  0.00755916,  0.04898865,\n",
       "         -0.02722701,  0.03248299, -0.02602658, -0.04885805,\n",
       "          0.04144073,  0.02489752],\n",
       "        [-0.01565169,  0.04301392,  0.00309689, -0.00670338,\n",
       "          0.02544909,  0.046467  , -0.0176456 , -0.03729975,\n",
       "         -0.01159537,  0.00287837],\n",
       "        [-0.01550878, -0.01588885, -0.00611664, -0.04412528,\n",
       "          0.04247408, -0.01915847,  0.03303591,  0.03035006,\n",
       "         -0.00085614,  0.01092523],\n",
       "        [-0.00327746, -0.0278046 , -0.04443231, -0.01766492,\n",
       "          0.01965915, -0.01067539,  0.03467008,  0.04382253,\n",
       "         -0.02128234, -0.01723802]]], dtype=float32)"
      ]
     },
     "execution_count": 18,
     "metadata": {},
     "output_type": "execute_result"
    }
   ],
   "source": [
    "model.predict(embedded_docs[0][None, :])"
   ]
  }
 ],
 "metadata": {
  "kernelspec": {
   "display_name": "myenv (3.13.5)",
   "language": "python",
   "name": "python3"
  },
  "language_info": {
   "codemirror_mode": {
    "name": "ipython",
    "version": 3
   },
   "file_extension": ".py",
   "mimetype": "text/x-python",
   "name": "python",
   "nbconvert_exporter": "python",
   "pygments_lexer": "ipython3",
   "version": "3.13.5"
  }
 },
 "nbformat": 4,
 "nbformat_minor": 2
}
