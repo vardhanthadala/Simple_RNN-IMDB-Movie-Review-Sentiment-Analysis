{
 "cells": [
  {
   "cell_type": "code",
   "execution_count": 1,
   "metadata": {},
   "outputs": [
    {
     "name": "stderr",
     "output_type": "stream",
     "text": [
      "c:\\Users\\Mr. COMPUTER\\Desktop\\DEEP LEARNING NLP\\myenv\\Lib\\site-packages\\google\\protobuf\\runtime_version.py:98: UserWarning: Protobuf gencode version 5.28.3 is exactly one major version older than the runtime version 6.31.1 at tensorflow/core/framework/attr_value.proto. Please update the gencode to avoid compatibility violations in the next runtime release.\n",
      "  warnings.warn(\n",
      "c:\\Users\\Mr. COMPUTER\\Desktop\\DEEP LEARNING NLP\\myenv\\Lib\\site-packages\\google\\protobuf\\runtime_version.py:98: UserWarning: Protobuf gencode version 5.28.3 is exactly one major version older than the runtime version 6.31.1 at tensorflow/core/framework/tensor.proto. Please update the gencode to avoid compatibility violations in the next runtime release.\n",
      "  warnings.warn(\n",
      "c:\\Users\\Mr. COMPUTER\\Desktop\\DEEP LEARNING NLP\\myenv\\Lib\\site-packages\\google\\protobuf\\runtime_version.py:98: UserWarning: Protobuf gencode version 5.28.3 is exactly one major version older than the runtime version 6.31.1 at tensorflow/core/framework/resource_handle.proto. Please update the gencode to avoid compatibility violations in the next runtime release.\n",
      "  warnings.warn(\n",
      "c:\\Users\\Mr. COMPUTER\\Desktop\\DEEP LEARNING NLP\\myenv\\Lib\\site-packages\\google\\protobuf\\runtime_version.py:98: UserWarning: Protobuf gencode version 5.28.3 is exactly one major version older than the runtime version 6.31.1 at tensorflow/core/framework/tensor_shape.proto. Please update the gencode to avoid compatibility violations in the next runtime release.\n",
      "  warnings.warn(\n",
      "c:\\Users\\Mr. COMPUTER\\Desktop\\DEEP LEARNING NLP\\myenv\\Lib\\site-packages\\google\\protobuf\\runtime_version.py:98: UserWarning: Protobuf gencode version 5.28.3 is exactly one major version older than the runtime version 6.31.1 at tensorflow/core/framework/types.proto. Please update the gencode to avoid compatibility violations in the next runtime release.\n",
      "  warnings.warn(\n",
      "c:\\Users\\Mr. COMPUTER\\Desktop\\DEEP LEARNING NLP\\myenv\\Lib\\site-packages\\google\\protobuf\\runtime_version.py:98: UserWarning: Protobuf gencode version 5.28.3 is exactly one major version older than the runtime version 6.31.1 at tensorflow/core/framework/full_type.proto. Please update the gencode to avoid compatibility violations in the next runtime release.\n",
      "  warnings.warn(\n",
      "c:\\Users\\Mr. COMPUTER\\Desktop\\DEEP LEARNING NLP\\myenv\\Lib\\site-packages\\google\\protobuf\\runtime_version.py:98: UserWarning: Protobuf gencode version 5.28.3 is exactly one major version older than the runtime version 6.31.1 at tensorflow/core/framework/function.proto. Please update the gencode to avoid compatibility violations in the next runtime release.\n",
      "  warnings.warn(\n",
      "c:\\Users\\Mr. COMPUTER\\Desktop\\DEEP LEARNING NLP\\myenv\\Lib\\site-packages\\google\\protobuf\\runtime_version.py:98: UserWarning: Protobuf gencode version 5.28.3 is exactly one major version older than the runtime version 6.31.1 at tensorflow/core/framework/node_def.proto. Please update the gencode to avoid compatibility violations in the next runtime release.\n",
      "  warnings.warn(\n",
      "c:\\Users\\Mr. COMPUTER\\Desktop\\DEEP LEARNING NLP\\myenv\\Lib\\site-packages\\google\\protobuf\\runtime_version.py:98: UserWarning: Protobuf gencode version 5.28.3 is exactly one major version older than the runtime version 6.31.1 at tensorflow/core/framework/op_def.proto. Please update the gencode to avoid compatibility violations in the next runtime release.\n",
      "  warnings.warn(\n",
      "c:\\Users\\Mr. COMPUTER\\Desktop\\DEEP LEARNING NLP\\myenv\\Lib\\site-packages\\google\\protobuf\\runtime_version.py:98: UserWarning: Protobuf gencode version 5.28.3 is exactly one major version older than the runtime version 6.31.1 at tensorflow/core/framework/graph.proto. Please update the gencode to avoid compatibility violations in the next runtime release.\n",
      "  warnings.warn(\n",
      "c:\\Users\\Mr. COMPUTER\\Desktop\\DEEP LEARNING NLP\\myenv\\Lib\\site-packages\\google\\protobuf\\runtime_version.py:98: UserWarning: Protobuf gencode version 5.28.3 is exactly one major version older than the runtime version 6.31.1 at tensorflow/core/framework/graph_debug_info.proto. Please update the gencode to avoid compatibility violations in the next runtime release.\n",
      "  warnings.warn(\n",
      "c:\\Users\\Mr. COMPUTER\\Desktop\\DEEP LEARNING NLP\\myenv\\Lib\\site-packages\\google\\protobuf\\runtime_version.py:98: UserWarning: Protobuf gencode version 5.28.3 is exactly one major version older than the runtime version 6.31.1 at tensorflow/core/framework/versions.proto. Please update the gencode to avoid compatibility violations in the next runtime release.\n",
      "  warnings.warn(\n",
      "c:\\Users\\Mr. COMPUTER\\Desktop\\DEEP LEARNING NLP\\myenv\\Lib\\site-packages\\google\\protobuf\\runtime_version.py:98: UserWarning: Protobuf gencode version 5.28.3 is exactly one major version older than the runtime version 6.31.1 at tensorflow/core/protobuf/config.proto. Please update the gencode to avoid compatibility violations in the next runtime release.\n",
      "  warnings.warn(\n",
      "c:\\Users\\Mr. COMPUTER\\Desktop\\DEEP LEARNING NLP\\myenv\\Lib\\site-packages\\google\\protobuf\\runtime_version.py:98: UserWarning: Protobuf gencode version 5.28.3 is exactly one major version older than the runtime version 6.31.1 at xla/tsl/protobuf/coordination_config.proto. Please update the gencode to avoid compatibility violations in the next runtime release.\n",
      "  warnings.warn(\n",
      "c:\\Users\\Mr. COMPUTER\\Desktop\\DEEP LEARNING NLP\\myenv\\Lib\\site-packages\\google\\protobuf\\runtime_version.py:98: UserWarning: Protobuf gencode version 5.28.3 is exactly one major version older than the runtime version 6.31.1 at tensorflow/core/framework/cost_graph.proto. Please update the gencode to avoid compatibility violations in the next runtime release.\n",
      "  warnings.warn(\n",
      "c:\\Users\\Mr. COMPUTER\\Desktop\\DEEP LEARNING NLP\\myenv\\Lib\\site-packages\\google\\protobuf\\runtime_version.py:98: UserWarning: Protobuf gencode version 5.28.3 is exactly one major version older than the runtime version 6.31.1 at tensorflow/core/framework/step_stats.proto. Please update the gencode to avoid compatibility violations in the next runtime release.\n",
      "  warnings.warn(\n",
      "c:\\Users\\Mr. COMPUTER\\Desktop\\DEEP LEARNING NLP\\myenv\\Lib\\site-packages\\google\\protobuf\\runtime_version.py:98: UserWarning: Protobuf gencode version 5.28.3 is exactly one major version older than the runtime version 6.31.1 at tensorflow/core/framework/allocation_description.proto. Please update the gencode to avoid compatibility violations in the next runtime release.\n",
      "  warnings.warn(\n",
      "c:\\Users\\Mr. COMPUTER\\Desktop\\DEEP LEARNING NLP\\myenv\\Lib\\site-packages\\google\\protobuf\\runtime_version.py:98: UserWarning: Protobuf gencode version 5.28.3 is exactly one major version older than the runtime version 6.31.1 at tensorflow/core/framework/tensor_description.proto. Please update the gencode to avoid compatibility violations in the next runtime release.\n",
      "  warnings.warn(\n",
      "c:\\Users\\Mr. COMPUTER\\Desktop\\DEEP LEARNING NLP\\myenv\\Lib\\site-packages\\google\\protobuf\\runtime_version.py:98: UserWarning: Protobuf gencode version 5.28.3 is exactly one major version older than the runtime version 6.31.1 at tensorflow/core/protobuf/cluster.proto. Please update the gencode to avoid compatibility violations in the next runtime release.\n",
      "  warnings.warn(\n",
      "c:\\Users\\Mr. COMPUTER\\Desktop\\DEEP LEARNING NLP\\myenv\\Lib\\site-packages\\google\\protobuf\\runtime_version.py:98: UserWarning: Protobuf gencode version 5.28.3 is exactly one major version older than the runtime version 6.31.1 at tensorflow/core/protobuf/debug.proto. Please update the gencode to avoid compatibility violations in the next runtime release.\n",
      "  warnings.warn(\n"
     ]
    }
   ],
   "source": [
    "# Step 1: Import Libraries and Load the Model\n",
    "import numpy as np\n",
    "import tensorflow as tf\n",
    "from tensorflow.keras.datasets import imdb\n",
    "from tensorflow.keras.preprocessing import sequence\n",
    "from tensorflow.keras.models import load_model"
   ]
  },
  {
   "cell_type": "code",
   "execution_count": 2,
   "metadata": {},
   "outputs": [],
   "source": [
    "\n",
    "# Load the IMDB dataset word index\n",
    "word_index = imdb.get_word_index()\n",
    "reverse_word_index = {value: key for key, value in word_index.items()}"
   ]
  },
  {
   "cell_type": "code",
   "execution_count": 3,
   "metadata": {},
   "outputs": [
    {
     "name": "stderr",
     "output_type": "stream",
     "text": [
      "WARNING:absl:Compiled the loaded model, but the compiled metrics have yet to be built. `model.compile_metrics` will be empty until you train or evaluate the model.\n"
     ]
    },
    {
     "data": {
      "text/html": [
       "<pre style=\"white-space:pre;overflow-x:auto;line-height:normal;font-family:Menlo,'DejaVu Sans Mono',consolas,'Courier New',monospace\"><span style=\"font-weight: bold\">Model: \"sequential\"</span>\n",
       "</pre>\n"
      ],
      "text/plain": [
       "\u001b[1mModel: \"sequential\"\u001b[0m\n"
      ]
     },
     "metadata": {},
     "output_type": "display_data"
    },
    {
     "data": {
      "text/html": [
       "<pre style=\"white-space:pre;overflow-x:auto;line-height:normal;font-family:Menlo,'DejaVu Sans Mono',consolas,'Courier New',monospace\">┏━━━━━━━━━━━━━━━━━━━━━━━━━━━━━━━━━┳━━━━━━━━━━━━━━━━━━━━━━━━┳━━━━━━━━━━━━━━━┓\n",
       "┃<span style=\"font-weight: bold\"> Layer (type)                    </span>┃<span style=\"font-weight: bold\"> Output Shape           </span>┃<span style=\"font-weight: bold\">       Param # </span>┃\n",
       "┡━━━━━━━━━━━━━━━━━━━━━━━━━━━━━━━━━╇━━━━━━━━━━━━━━━━━━━━━━━━╇━━━━━━━━━━━━━━━┩\n",
       "│ embedding (<span style=\"color: #0087ff; text-decoration-color: #0087ff\">Embedding</span>)           │ (<span style=\"color: #00af00; text-decoration-color: #00af00\">32</span>, <span style=\"color: #00af00; text-decoration-color: #00af00\">500</span>, <span style=\"color: #00af00; text-decoration-color: #00af00\">128</span>)         │     <span style=\"color: #00af00; text-decoration-color: #00af00\">1,280,000</span> │\n",
       "├─────────────────────────────────┼────────────────────────┼───────────────┤\n",
       "│ simple_rnn (<span style=\"color: #0087ff; text-decoration-color: #0087ff\">SimpleRNN</span>)          │ (<span style=\"color: #00af00; text-decoration-color: #00af00\">32</span>, <span style=\"color: #00af00; text-decoration-color: #00af00\">128</span>)              │        <span style=\"color: #00af00; text-decoration-color: #00af00\">32,896</span> │\n",
       "├─────────────────────────────────┼────────────────────────┼───────────────┤\n",
       "│ dense (<span style=\"color: #0087ff; text-decoration-color: #0087ff\">Dense</span>)                   │ (<span style=\"color: #00af00; text-decoration-color: #00af00\">32</span>, <span style=\"color: #00af00; text-decoration-color: #00af00\">1</span>)                │           <span style=\"color: #00af00; text-decoration-color: #00af00\">129</span> │\n",
       "└─────────────────────────────────┴────────────────────────┴───────────────┘\n",
       "</pre>\n"
      ],
      "text/plain": [
       "┏━━━━━━━━━━━━━━━━━━━━━━━━━━━━━━━━━┳━━━━━━━━━━━━━━━━━━━━━━━━┳━━━━━━━━━━━━━━━┓\n",
       "┃\u001b[1m \u001b[0m\u001b[1mLayer (type)                   \u001b[0m\u001b[1m \u001b[0m┃\u001b[1m \u001b[0m\u001b[1mOutput Shape          \u001b[0m\u001b[1m \u001b[0m┃\u001b[1m \u001b[0m\u001b[1m      Param #\u001b[0m\u001b[1m \u001b[0m┃\n",
       "┡━━━━━━━━━━━━━━━━━━━━━━━━━━━━━━━━━╇━━━━━━━━━━━━━━━━━━━━━━━━╇━━━━━━━━━━━━━━━┩\n",
       "│ embedding (\u001b[38;5;33mEmbedding\u001b[0m)           │ (\u001b[38;5;34m32\u001b[0m, \u001b[38;5;34m500\u001b[0m, \u001b[38;5;34m128\u001b[0m)         │     \u001b[38;5;34m1,280,000\u001b[0m │\n",
       "├─────────────────────────────────┼────────────────────────┼───────────────┤\n",
       "│ simple_rnn (\u001b[38;5;33mSimpleRNN\u001b[0m)          │ (\u001b[38;5;34m32\u001b[0m, \u001b[38;5;34m128\u001b[0m)              │        \u001b[38;5;34m32,896\u001b[0m │\n",
       "├─────────────────────────────────┼────────────────────────┼───────────────┤\n",
       "│ dense (\u001b[38;5;33mDense\u001b[0m)                   │ (\u001b[38;5;34m32\u001b[0m, \u001b[38;5;34m1\u001b[0m)                │           \u001b[38;5;34m129\u001b[0m │\n",
       "└─────────────────────────────────┴────────────────────────┴───────────────┘\n"
      ]
     },
     "metadata": {},
     "output_type": "display_data"
    },
    {
     "data": {
      "text/html": [
       "<pre style=\"white-space:pre;overflow-x:auto;line-height:normal;font-family:Menlo,'DejaVu Sans Mono',consolas,'Courier New',monospace\"><span style=\"font-weight: bold\"> Total params: </span><span style=\"color: #00af00; text-decoration-color: #00af00\">1,313,027</span> (5.01 MB)\n",
       "</pre>\n"
      ],
      "text/plain": [
       "\u001b[1m Total params: \u001b[0m\u001b[38;5;34m1,313,027\u001b[0m (5.01 MB)\n"
      ]
     },
     "metadata": {},
     "output_type": "display_data"
    },
    {
     "data": {
      "text/html": [
       "<pre style=\"white-space:pre;overflow-x:auto;line-height:normal;font-family:Menlo,'DejaVu Sans Mono',consolas,'Courier New',monospace\"><span style=\"font-weight: bold\"> Trainable params: </span><span style=\"color: #00af00; text-decoration-color: #00af00\">1,313,025</span> (5.01 MB)\n",
       "</pre>\n"
      ],
      "text/plain": [
       "\u001b[1m Trainable params: \u001b[0m\u001b[38;5;34m1,313,025\u001b[0m (5.01 MB)\n"
      ]
     },
     "metadata": {},
     "output_type": "display_data"
    },
    {
     "data": {
      "text/html": [
       "<pre style=\"white-space:pre;overflow-x:auto;line-height:normal;font-family:Menlo,'DejaVu Sans Mono',consolas,'Courier New',monospace\"><span style=\"font-weight: bold\"> Non-trainable params: </span><span style=\"color: #00af00; text-decoration-color: #00af00\">0</span> (0.00 B)\n",
       "</pre>\n"
      ],
      "text/plain": [
       "\u001b[1m Non-trainable params: \u001b[0m\u001b[38;5;34m0\u001b[0m (0.00 B)\n"
      ]
     },
     "metadata": {},
     "output_type": "display_data"
    },
    {
     "data": {
      "text/html": [
       "<pre style=\"white-space:pre;overflow-x:auto;line-height:normal;font-family:Menlo,'DejaVu Sans Mono',consolas,'Courier New',monospace\"><span style=\"font-weight: bold\"> Optimizer params: </span><span style=\"color: #00af00; text-decoration-color: #00af00\">2</span> (12.00 B)\n",
       "</pre>\n"
      ],
      "text/plain": [
       "\u001b[1m Optimizer params: \u001b[0m\u001b[38;5;34m2\u001b[0m (12.00 B)\n"
      ]
     },
     "metadata": {},
     "output_type": "display_data"
    }
   ],
   "source": [
    "# Load the pre-trained model with ReLU activation\n",
    "model = load_model('simple_rnn_imdb.h5')\n",
    "model.summary()"
   ]
  },
  {
   "cell_type": "code",
   "execution_count": 4,
   "metadata": {},
   "outputs": [
    {
     "data": {
      "text/plain": [
       "[array([[ 0.06847374, -0.00358428, -0.01380294, ..., -0.02187605,\n",
       "          0.05644114, -0.0155618 ],\n",
       "        [ 0.04226189, -0.05105334,  0.04504223, ..., -0.0614571 ,\n",
       "         -0.05205661,  0.02022185],\n",
       "        [-0.03360875,  0.00293868,  0.06178676, ...,  0.03140581,\n",
       "          0.00503383, -0.05470885],\n",
       "        ...,\n",
       "        [ 0.05378042,  0.02785512, -0.0079887 , ..., -0.02687839,\n",
       "         -0.02858841, -0.04425816],\n",
       "        [-0.03351173,  0.05380061, -0.01403353, ...,  0.01808347,\n",
       "          0.04801267,  0.03472274],\n",
       "        [ 0.04000241, -0.08927191, -0.10443623, ...,  0.07378166,\n",
       "         -0.07826905,  0.09381692]], shape=(10000, 128), dtype=float32),\n",
       " array([[-0.00941793, -0.00343684, -0.17478575, ...,  0.03723184,\n",
       "         -0.02316817,  0.15612742],\n",
       "        [ 0.06617421,  0.15567066,  0.0699411 , ..., -0.08163913,\n",
       "         -0.01441782, -0.15687212],\n",
       "        [ 0.16775128,  0.11058609, -0.03775222, ...,  0.05595063,\n",
       "         -0.08355134, -0.0846043 ],\n",
       "        ...,\n",
       "        [-0.14084998,  0.06601617, -0.06910914, ..., -0.00159053,\n",
       "         -0.05052952, -0.03324254],\n",
       "        [-0.13166796, -0.03223484, -0.14095692, ..., -0.00613825,\n",
       "         -0.00606805, -0.12127475],\n",
       "        [-0.081998  ,  0.14937587, -0.04648125, ...,  0.13677622,\n",
       "          0.04454907,  0.12104584]], shape=(128, 128), dtype=float32),\n",
       " array([[-0.17214954, -0.09323385,  0.05935739, ..., -0.05919747,\n",
       "          0.00597738,  0.01769615],\n",
       "        [-0.15868421, -0.04649143,  0.02204132, ...,  0.10988124,\n",
       "         -0.00598633,  0.0600118 ],\n",
       "        [-0.01784588,  0.06580538,  0.02067054, ..., -0.11232161,\n",
       "          0.12537688, -0.14507781],\n",
       "        ...,\n",
       "        [ 0.041188  , -0.1335574 , -0.05856428, ..., -0.0475027 ,\n",
       "         -0.16131373, -0.07504106],\n",
       "        [ 0.12063283, -0.02769014, -0.05355768, ..., -0.14116009,\n",
       "         -0.06785505,  0.19391589],\n",
       "        [-0.01353735, -0.03473862, -0.05902806, ..., -0.0255684 ,\n",
       "         -0.02670994,  0.04063012]], shape=(128, 128), dtype=float32),\n",
       " array([ 0.00118114, -0.01612549, -0.00015083, -0.03310092, -0.01632603,\n",
       "        -0.00931058, -0.02490487, -0.0143246 , -0.00386578,  0.01033705,\n",
       "         0.00026592, -0.00371324, -0.01553194,  0.0122008 , -0.00444982,\n",
       "         0.00540286, -0.01654235, -0.01938115, -0.01018118, -0.00845045,\n",
       "         0.00720019,  0.01669787,  0.01194362, -0.00251627,  0.0195816 ,\n",
       "        -0.01979452,  0.02054927, -0.01717965,  0.00965546, -0.00235656,\n",
       "        -0.00899061, -0.00580552, -0.00204933,  0.02039469,  0.00994362,\n",
       "         0.01679423, -0.00523761, -0.00713558,  0.01410657, -0.01416765,\n",
       "         0.01353907, -0.01045569,  0.02646775,  0.00612712, -0.01624637,\n",
       "        -0.00814563, -0.00800416, -0.0042414 , -0.00820887,  0.00140582,\n",
       "         0.01089112, -0.00932202,  0.02686164, -0.01321547,  0.00817782,\n",
       "        -0.01518719, -0.00676026,  0.0144103 , -0.00083583,  0.00672912,\n",
       "         0.01150288, -0.01516059,  0.0059694 ,  0.0020348 , -0.02617757,\n",
       "         0.00580747,  0.01919628,  0.00830417, -0.00098307, -0.01106609,\n",
       "        -0.00297724,  0.00607957, -0.00882059,  0.00811608, -0.02139778,\n",
       "        -0.01632827,  0.00610641, -0.01385777, -0.00586296,  0.00556299,\n",
       "        -0.00746955,  0.00149226, -0.00732967, -0.00467177,  0.01832372,\n",
       "         0.03239905, -0.01099737,  0.01694471,  0.01843847, -0.01668257,\n",
       "         0.00178895, -0.00081091,  0.10266986,  0.00419555, -0.03283249,\n",
       "         0.01115456, -0.02304798,  0.00158391, -0.01933783, -0.02146203,\n",
       "         0.00453458,  0.0068317 , -0.00869518,  0.01412009,  0.01275547,\n",
       "         0.01226086,  0.01628775,  0.00792398,  0.01604882, -0.01937174,\n",
       "        -0.02497168, -0.00750661, -0.00420407, -0.02561654, -0.01040236,\n",
       "         0.01595187,  0.00056893, -0.00762428, -0.01220827, -0.00278618,\n",
       "         0.00993761, -0.00171896, -0.01667308, -0.01628143,  0.01302267,\n",
       "         0.00471683, -0.00888313,  0.01374096], dtype=float32),\n",
       " array([[-1.61689907e-01],\n",
       "        [-1.23173311e-01],\n",
       "        [-6.22620843e-02],\n",
       "        [-2.11775512e-01],\n",
       "        [ 4.76783328e-02],\n",
       "        [ 2.10886642e-01],\n",
       "        [ 8.71700197e-02],\n",
       "        [-1.57178432e-01],\n",
       "        [-1.88434720e-01],\n",
       "        [ 6.62634447e-02],\n",
       "        [ 1.30105227e-01],\n",
       "        [-1.62704974e-01],\n",
       "        [-9.75522324e-02],\n",
       "        [ 3.88693184e-01],\n",
       "        [-1.68264061e-01],\n",
       "        [ 2.74467319e-01],\n",
       "        [-1.98137149e-01],\n",
       "        [-8.96838680e-02],\n",
       "        [-5.21478094e-02],\n",
       "        [-1.96705878e-01],\n",
       "        [ 1.81946442e-01],\n",
       "        [ 2.27246225e-01],\n",
       "        [ 3.10636789e-01],\n",
       "        [ 2.92957458e-03],\n",
       "        [-2.43028462e-01],\n",
       "        [ 3.26926857e-02],\n",
       "        [ 3.40183973e-01],\n",
       "        [-1.57929763e-01],\n",
       "        [-1.85750067e-01],\n",
       "        [ 8.67917314e-02],\n",
       "        [-1.46364599e-01],\n",
       "        [ 3.77649367e-01],\n",
       "        [-9.40567628e-02],\n",
       "        [ 1.56636372e-01],\n",
       "        [-1.04811581e-04],\n",
       "        [-3.32370758e-01],\n",
       "        [ 2.05459550e-01],\n",
       "        [-8.48569199e-02],\n",
       "        [-1.99763432e-01],\n",
       "        [-4.84279990e-01],\n",
       "        [-1.15856901e-01],\n",
       "        [-1.53697670e-01],\n",
       "        [ 4.05103147e-01],\n",
       "        [ 1.89150363e-01],\n",
       "        [ 1.76257342e-01],\n",
       "        [ 2.48156302e-02],\n",
       "        [-5.20486210e-05],\n",
       "        [-6.43241480e-02],\n",
       "        [ 5.47122657e-02],\n",
       "        [-2.00284675e-01],\n",
       "        [ 1.20514877e-01],\n",
       "        [-1.22985773e-01],\n",
       "        [ 2.03966588e-01],\n",
       "        [ 4.69268322e-01],\n",
       "        [ 3.48872513e-01],\n",
       "        [-1.61503017e-01],\n",
       "        [ 8.89328346e-02],\n",
       "        [ 4.41504680e-02],\n",
       "        [-2.26116166e-01],\n",
       "        [-1.74467728e-01],\n",
       "        [ 2.56834030e-01],\n",
       "        [-1.27322048e-01],\n",
       "        [-1.55443057e-01],\n",
       "        [-4.11531299e-01],\n",
       "        [ 1.80360407e-01],\n",
       "        [-2.41441980e-01],\n",
       "        [-8.86009783e-02],\n",
       "        [ 2.27690741e-01],\n",
       "        [-1.53551564e-01],\n",
       "        [-5.99121675e-02],\n",
       "        [ 1.46603450e-01],\n",
       "        [ 2.73082048e-01],\n",
       "        [ 1.84710607e-01],\n",
       "        [ 4.11747336e-01],\n",
       "        [-8.98221321e-03],\n",
       "        [-1.07362986e-01],\n",
       "        [ 2.93799043e-01],\n",
       "        [ 1.13546573e-01],\n",
       "        [ 1.94229126e-01],\n",
       "        [-1.34428307e-01],\n",
       "        [-1.70065939e-01],\n",
       "        [ 4.18339938e-01],\n",
       "        [ 3.25985581e-01],\n",
       "        [-9.91363265e-03],\n",
       "        [ 1.04595326e-01],\n",
       "        [ 2.74880677e-01],\n",
       "        [ 2.41012499e-01],\n",
       "        [ 3.33730727e-01],\n",
       "        [ 4.10788417e-01],\n",
       "        [-8.91299173e-02],\n",
       "        [ 2.89681077e-01],\n",
       "        [ 1.46234244e-01],\n",
       "        [-3.81734103e-01],\n",
       "        [-4.21013534e-01],\n",
       "        [ 3.78082767e-02],\n",
       "        [ 2.66135424e-01],\n",
       "        [-2.14478582e-01],\n",
       "        [-2.18617126e-01],\n",
       "        [-2.65768971e-02],\n",
       "        [-7.16426894e-02],\n",
       "        [ 1.52670935e-01],\n",
       "        [-3.23588938e-01],\n",
       "        [-9.78664011e-02],\n",
       "        [-1.20796049e-02],\n",
       "        [-5.01177251e-01],\n",
       "        [-5.57304740e-01],\n",
       "        [-2.32930966e-02],\n",
       "        [ 1.22614384e-01],\n",
       "        [ 4.09860551e-01],\n",
       "        [ 5.89296520e-02],\n",
       "        [-6.36082441e-02],\n",
       "        [-6.45435750e-02],\n",
       "        [-1.43210873e-01],\n",
       "        [ 9.66351256e-02],\n",
       "        [-7.84989595e-02],\n",
       "        [ 1.79007351e-01],\n",
       "        [ 1.62608862e-01],\n",
       "        [-1.86805218e-01],\n",
       "        [-1.98486269e-01],\n",
       "        [ 1.80630341e-01],\n",
       "        [-1.78020336e-02],\n",
       "        [-2.19405100e-01],\n",
       "        [-6.88418522e-02],\n",
       "        [ 5.94726093e-02],\n",
       "        [ 8.62379670e-02],\n",
       "        [ 3.09626520e-01],\n",
       "        [-3.72274481e-02],\n",
       "        [ 3.85361940e-01]], dtype=float32),\n",
       " array([-0.07347123], dtype=float32)]"
      ]
     },
     "execution_count": 4,
     "metadata": {},
     "output_type": "execute_result"
    }
   ],
   "source": [
    "model.get_weights()"
   ]
  },
  {
   "cell_type": "code",
   "execution_count": 5,
   "metadata": {},
   "outputs": [],
   "source": [
    "# Step 2: Helper Functions\n",
    "# Function to decode reviews\n",
    "def decode_review(encoded_review):\n",
    "    return ' '.join([reverse_word_index.get(i - 3, '?') for i in encoded_review])\n",
    "\n",
    "# Function to preprocess user input\n",
    "def preprocess_text(text):\n",
    "    words = text.lower().split()\n",
    "    encoded_review = [word_index.get(word, 2) + 3 for word in words]\n",
    "    padded_review = sequence.pad_sequences([encoded_review], maxlen=500)\n",
    "    return padded_review"
   ]
  },
  {
   "cell_type": "code",
   "execution_count": 6,
   "metadata": {},
   "outputs": [],
   "source": [
    "### Prediction  function\n",
    "\n",
    "def predict_sentiment(review):\n",
    "    preprocessed_input=preprocess_text(review)\n",
    "\n",
    "    prediction=model.predict(preprocessed_input)\n",
    "\n",
    "    sentiment = 'Positive' if prediction[0][0] > 0.5 else 'Negative'\n",
    "    \n",
    "    return sentiment, prediction[0][0]\n",
    "\n"
   ]
  },
  {
   "cell_type": "code",
   "execution_count": 7,
   "metadata": {},
   "outputs": [
    {
     "name": "stdout",
     "output_type": "stream",
     "text": [
      "\u001b[1m1/1\u001b[0m \u001b[32m━━━━━━━━━━━━━━━━━━━━\u001b[0m\u001b[37m\u001b[0m \u001b[1m0s\u001b[0m 201ms/step\n",
      "Review: This movie was fantastic! The acting was great and the plot was thrilling.\n",
      "Sentiment: Positive\n",
      "Prediction Score: 0.9309019446372986\n"
     ]
    }
   ],
   "source": [
    "# Step 4: User Input and Prediction\n",
    "# Example review for prediction\n",
    "example_review = \"This movie was fantastic! The acting was great and the plot was thrilling.\"\n",
    "\n",
    "sentiment,score=predict_sentiment(example_review)\n",
    "\n",
    "print(f'Review: {example_review}')\n",
    "print(f'Sentiment: {sentiment}')\n",
    "print(f'Prediction Score: {score}')"
   ]
  }
 ],
 "metadata": {
  "kernelspec": {
   "display_name": "myenv (3.13.5)",
   "language": "python",
   "name": "python3"
  },
  "language_info": {
   "codemirror_mode": {
    "name": "ipython",
    "version": 3
   },
   "file_extension": ".py",
   "mimetype": "text/x-python",
   "name": "python",
   "nbconvert_exporter": "python",
   "pygments_lexer": "ipython3",
   "version": "3.13.5"
  }
 },
 "nbformat": 4,
 "nbformat_minor": 2
}
